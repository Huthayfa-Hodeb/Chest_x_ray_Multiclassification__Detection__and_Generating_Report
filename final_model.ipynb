{
 "cells": [
  {
   "cell_type": "markdown",
   "id": "da35e7be-7981-45f2-aff2-b94bd16616fa",
   "metadata": {},
   "source": [
    "## Importing Library"
   ]
  },
  {
   "cell_type": "code",
   "execution_count": 2,
   "id": "86e7bd90-5ca2-4c6f-a01c-4bf474aaf1e7",
   "metadata": {},
   "outputs": [],
   "source": [
    "from ultralytics import RTDETR\n",
    "import matplotlib.pyplot as plt\n",
    "import cv2\n",
    "import json"
   ]
  },
  {
   "cell_type": "markdown",
   "id": "f50bc0f9-a4cb-4a33-af90-7046c33266a9",
   "metadata": {},
   "source": [
    "## Loading Model"
   ]
  },
  {
   "cell_type": "code",
   "execution_count": 3,
   "id": "268dc49e-1120-4ff4-8616-b3c1da8c0a6e",
   "metadata": {},
   "outputs": [],
   "source": [
    "model = RTDETR('model/best.pt')"
   ]
  },
  {
   "cell_type": "markdown",
   "id": "502f80f2-0a51-4ab2-9495-20ffb5bb8ac7",
   "metadata": {},
   "source": [
    "## Inferences"
   ]
  },
  {
   "cell_type": "code",
   "execution_count": 4,
   "id": "40d57da2-4e7c-478f-9dcf-1a56c95d1625",
   "metadata": {},
   "outputs": [
    {
     "name": "stdout",
     "output_type": "stream",
     "text": [
      "\n",
      "0: 640x640 2 Atelectasiss, 1 Cardiomegaly, 1 Nodule, 860.7ms\n",
      "Speed: 6.0ms preprocess, 860.7ms inference, 1.0ms postprocess per image at shape (1, 3, 640, 640)\n"
     ]
    }
   ],
   "source": [
    "results = model(['Data/bbox_img/00000845_000.png'])  # return a list of Results objects\n",
    "result = results[0]"
   ]
  },
  {
   "cell_type": "code",
   "execution_count": 6,
   "id": "3b198a61-efc7-448f-b929-748c270f3f2f",
   "metadata": {},
   "outputs": [
    {
     "data": {
      "text/plain": [
       "(1024, 1024, 3)"
      ]
     },
     "execution_count": 6,
     "metadata": {},
     "output_type": "execute_result"
    }
   ],
   "source": [
    "result.plot().shape"
   ]
  },
  {
   "cell_type": "code",
   "execution_count": 22,
   "id": "e957bfed-1ab1-43db-bf90-8682328e55e7",
   "metadata": {},
   "outputs": [],
   "source": [
    "data = json.loads(result.tojson())"
   ]
  },
  {
   "cell_type": "code",
   "execution_count": 23,
   "id": "4761b477-8eaa-40ca-8643-1da2c0b4ef1d",
   "metadata": {},
   "outputs": [
    {
     "data": {
      "text/plain": [
       "[{'name': 'Cardiomegaly',\n",
       "  'class': 1,\n",
       "  'confidence': 0.68269,\n",
       "  'box': {'x1': 376.33679, 'y1': 428.086, 'x2': 822.6604, 'y2': 814.91461}},\n",
       " {'name': 'Nodule',\n",
       "  'class': 5,\n",
       "  'confidence': 0.3658,\n",
       "  'box': {'x1': 697.78717, 'y1': 475.63776, 'x2': 764.01532, 'y2': 525.6557}},\n",
       " {'name': 'Atelectasis',\n",
       "  'class': 0,\n",
       "  'confidence': 0.31979,\n",
       "  'box': {'x1': 605.41144, 'y1': 805.70996, 'x2': 713.67365, 'y2': 873.92847}}]"
      ]
     },
     "execution_count": 23,
     "metadata": {},
     "output_type": "execute_result"
    }
   ],
   "source": [
    "data"
   ]
  }
 ],
 "metadata": {
  "kernelspec": {
   "display_name": "Python 3 (ipykernel)",
   "language": "python",
   "name": "python3"
  },
  "language_info": {
   "codemirror_mode": {
    "name": "ipython",
    "version": 3
   },
   "file_extension": ".py",
   "mimetype": "text/x-python",
   "name": "python",
   "nbconvert_exporter": "python",
   "pygments_lexer": "ipython3",
   "version": "3.11.7"
  }
 },
 "nbformat": 4,
 "nbformat_minor": 5
}
