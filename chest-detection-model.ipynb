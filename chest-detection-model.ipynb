{
 "cells": [
  {
   "cell_type": "markdown",
   "id": "ae0b1a72",
   "metadata": {},
   "source": [
    "# Fine-Tuning RT-DETR on Custom Dataset"
   ]
  },
  {
   "cell_type": "markdown",
   "id": "c9e8415c",
   "metadata": {},
   "source": [
    "## Install Required Packages"
   ]
  },
  {
   "cell_type": "code",
   "execution_count": 2,
   "id": "da713e5c",
   "metadata": {
    "execution": {
     "iopub.execute_input": "2024-04-05T14:03:54.922743Z",
     "iopub.status.busy": "2024-04-05T14:03:54.921994Z",
     "iopub.status.idle": "2024-04-05T14:03:54.926944Z",
     "shell.execute_reply": "2024-04-05T14:03:54.925897Z",
     "shell.execute_reply.started": "2024-04-05T14:03:54.922711Z"
    }
   },
   "outputs": [],
   "source": [
    "#!pip install ultralytics"
   ]
  },
  {
   "cell_type": "markdown",
   "id": "dff7eb75",
   "metadata": {},
   "source": [
    "## Import Packages"
   ]
  },
  {
   "cell_type": "markdown",
   "id": "95e8d0e6",
   "metadata": {},
   "source": [
    "Given below are some of the packages that need to be imported to get this pipeline up and running. "
   ]
  },
  {
   "cell_type": "code",
   "execution_count": 12,
   "id": "46f2cdb8",
   "metadata": {
    "execution": {
     "iopub.execute_input": "2024-04-05T14:06:24.248672Z",
     "iopub.status.busy": "2024-04-05T14:06:24.248311Z",
     "iopub.status.idle": "2024-04-05T14:06:24.253296Z",
     "shell.execute_reply": "2024-04-05T14:06:24.252340Z",
     "shell.execute_reply.started": "2024-04-05T14:06:24.248644Z"
    }
   },
   "outputs": [],
   "source": [
    "from ultralytics import YOLO \n",
    "from ultralytics import RTDETR\n",
    "\n",
    "import os \n",
    "from urllib.request import urlretrieve\n",
    "from zipfile import ZipFile"
   ]
  },
  {
   "cell_type": "markdown",
   "id": "441ff53a",
   "metadata": {},
   "source": [
    "## DataSet"
   ]
  },
  {
   "cell_type": "code",
   "execution_count": 5,
   "id": "d2995d03",
   "metadata": {
    "execution": {
     "iopub.execute_input": "2024-04-05T14:05:25.674008Z",
     "iopub.status.busy": "2024-04-05T14:05:25.673654Z",
     "iopub.status.idle": "2024-04-05T14:05:26.721259Z",
     "shell.execute_reply": "2024-04-05T14:05:26.720242Z",
     "shell.execute_reply.started": "2024-04-05T14:05:25.673979Z"
    }
   },
   "outputs": [
    {
     "name": "stdout",
     "output_type": "stream",
     "text": [
      "loading Roboflow workspace...\n",
      "loading Roboflow project...\n"
     ]
    }
   ],
   "source": [
    "#pip install roboflow\n",
    "\n",
    "from roboflow import Roboflow\n",
    "rf = Roboflow(api_key=\"FiJucU9399Jud0RZRLWj\")\n",
    "project = rf.workspace(\"pr-ea2pm\").project(\"pr_proj\")\n",
    "version = project.version(2)\n",
    "dataset = version.download(\"yolov9\")"
   ]
  },
  {
   "cell_type": "code",
   "execution_count": 7,
   "id": "0f6c52de",
   "metadata": {
    "execution": {
     "iopub.execute_input": "2024-04-05T14:05:58.881535Z",
     "iopub.status.busy": "2024-04-05T14:05:58.880721Z",
     "iopub.status.idle": "2024-04-05T14:05:58.892209Z",
     "shell.execute_reply": "2024-04-05T14:05:58.891272Z",
     "shell.execute_reply.started": "2024-04-05T14:05:58.881499Z"
    }
   },
   "outputs": [],
   "source": [
    "import yaml\n",
    "\n",
    "# Load the YAML file\n",
    "with open('/kaggle/working/Pr_Proj-2/data.yaml', 'r') as file:\n",
    "    data = yaml.safe_load(file)\n",
    "\n",
    "# Modify the value of datasets_dir\n",
    "data['train'] = '../train/images'\n",
    "data['val'] = '../valid/images'\n",
    "\n",
    "# Save the modified data back to the YAML file\n",
    "with open('/kaggle/working/Pr_Proj-2/data.yaml', 'w') as file:\n",
    "    yaml.dump(data, file)"
   ]
  },
  {
   "cell_type": "code",
   "execution_count": 8,
   "id": "72833335",
   "metadata": {
    "execution": {
     "iopub.execute_input": "2024-04-05T14:06:01.881485Z",
     "iopub.status.busy": "2024-04-05T14:06:01.881127Z",
     "iopub.status.idle": "2024-04-05T14:06:01.889650Z",
     "shell.execute_reply": "2024-04-05T14:06:01.888755Z",
     "shell.execute_reply.started": "2024-04-05T14:06:01.881457Z"
    }
   },
   "outputs": [
    {
     "name": "stdout",
     "output_type": "stream",
     "text": [
      "{'names': ['Atelectasis', 'Cardiomegaly', 'Effusion', 'Infiltrate', 'Mass', 'Nodule', 'Pneumonia', 'Pneumothorax'], 'nc': 8, 'roboflow': {'license': 'CC BY 4.0', 'project': 'pr_proj', 'url': 'https://universe.roboflow.com/pr-ea2pm/pr_proj/dataset/2', 'version': 2, 'workspace': 'pr-ea2pm'}, 'test': '../test/images', 'train': '../train/images', 'val': '../valid/images'}\n"
     ]
    }
   ],
   "source": [
    "import yaml\n",
    "\n",
    "with open('/kaggle/working/Pr_Proj-2/data.yaml', 'r') as file:\n",
    "    data = yaml.safe_load(file)\n",
    "\n",
    "# Now you can work with the data loaded from the YAML file\n",
    "print(data)"
   ]
  },
  {
   "cell_type": "code",
   "execution_count": 10,
   "id": "cb5d71f2",
   "metadata": {
    "execution": {
     "iopub.execute_input": "2024-04-05T14:06:10.650096Z",
     "iopub.status.busy": "2024-04-05T14:06:10.649480Z",
     "iopub.status.idle": "2024-04-05T14:06:10.659830Z",
     "shell.execute_reply": "2024-04-05T14:06:10.658947Z",
     "shell.execute_reply.started": "2024-04-05T14:06:10.650063Z"
    }
   },
   "outputs": [
    {
     "data": {
      "text/plain": [
       "'/kaggle/working/datasets/Pr_Proj-2'"
      ]
     },
     "execution_count": 10,
     "metadata": {},
     "output_type": "execute_result"
    }
   ],
   "source": [
    "import os\n",
    "import shutil\n",
    "\n",
    "# Specify the paths\n",
    "working_dir = '/kaggle/working/'\n",
    "existing_folder_name = 'Pr_Proj-2'\n",
    "new_folder_name = 'datasets'\n",
    "\n",
    "# Create the new folder\n",
    "new_folder_path = os.path.join(working_dir, new_folder_name)\n",
    "os.makedirs(new_folder_path, exist_ok=True)\n",
    "\n",
    "# Move the existing folder into the new folder\n",
    "existing_folder_path = os.path.join(working_dir, existing_folder_name)\n",
    "shutil.move(existing_folder_path, new_folder_path)"
   ]
  },
  {
   "cell_type": "markdown",
   "id": "22b0d6ff",
   "metadata": {},
   "source": [
    "## Model Initialization"
   ]
  },
  {
   "cell_type": "markdown",
   "id": "a830c51d",
   "metadata": {},
   "source": [
    "In this entire notebook, we will be using the **YOLOv9-C** model for the fine-tuning process. But, you can also change the model parameter here to also invoke the **YOLOv9-E** model. The below line of code will download the `yolov9-c.pt` file into your current working directory. "
   ]
  },
  {
   "cell_type": "code",
   "execution_count": 13,
   "id": "d3dc1a25",
   "metadata": {
    "execution": {
     "iopub.execute_input": "2024-04-05T14:06:27.354430Z",
     "iopub.status.busy": "2024-04-05T14:06:27.353735Z",
     "iopub.status.idle": "2024-04-05T14:06:28.743625Z",
     "shell.execute_reply": "2024-04-05T14:06:28.742761Z",
     "shell.execute_reply.started": "2024-04-05T14:06:27.354397Z"
    }
   },
   "outputs": [
    {
     "name": "stdout",
     "output_type": "stream",
     "text": [
      "Downloading https://github.com/ultralytics/assets/releases/download/v8.1.0/rtdetr-l.pt to 'rtdetr-l.pt'...\n"
     ]
    },
    {
     "name": "stderr",
     "output_type": "stream",
     "text": [
      "100%|██████████| 63.4M/63.4M [00:00<00:00, 347MB/s]\n"
     ]
    }
   ],
   "source": [
    "model = RTDETR('rtdetr-l.pt')"
   ]
  },
  {
   "cell_type": "markdown",
   "id": "48c5a212",
   "metadata": {},
   "source": [
    "## Baseline Training"
   ]
  },
  {
   "cell_type": "markdown",
   "id": "1e0f7da3",
   "metadata": {},
   "source": [
    "By running the below line of code, you will be able to start the training process using Ultralytics library: "
   ]
  },
  {
   "cell_type": "code",
   "execution_count": 48,
   "id": "8eab0f95",
   "metadata": {
    "execution": {
     "iopub.execute_input": "2024-04-05T19:30:49.552123Z",
     "iopub.status.busy": "2024-04-05T19:30:49.551771Z",
     "iopub.status.idle": "2024-04-05T19:30:49.558027Z",
     "shell.execute_reply": "2024-04-05T19:30:49.556828Z",
     "shell.execute_reply.started": "2024-04-05T19:30:49.552099Z"
    }
   },
   "outputs": [],
   "source": [
    "results = model.train(data='/kaggle/working/datasets/Pr_Proj-2/data.yaml', epochs=50, imgsz=640)"
   ]
  }
 ],
 "metadata": {
  "kaggle": {
   "accelerator": "gpu",
   "dataSources": [],
   "dockerImageVersionId": 30674,
   "isGpuEnabled": true,
   "isInternetEnabled": true,
   "language": "python",
   "sourceType": "notebook"
  },
  "kernelspec": {
   "display_name": "Python 3 (ipykernel)",
   "language": "python",
   "name": "python3"
  },
  "language_info": {
   "codemirror_mode": {
    "name": "ipython",
    "version": 3
   },
   "file_extension": ".py",
   "mimetype": "text/x-python",
   "name": "python",
   "nbconvert_exporter": "python",
   "pygments_lexer": "ipython3",
   "version": "3.11.7"
  }
 },
 "nbformat": 4,
 "nbformat_minor": 5
}
